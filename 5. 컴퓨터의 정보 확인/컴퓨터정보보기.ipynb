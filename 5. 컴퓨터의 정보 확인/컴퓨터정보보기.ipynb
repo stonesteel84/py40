{
 "cells": [
  {
   "cell_type": "code",
   "execution_count": 1,
   "id": "d4504998-cf1b-4e23-9a7d-abf81a62e84b",
   "metadata": {},
   "outputs": [],
   "source": [
    "# 컴퓨터 정보 보는 코드 실행하는 법"
   ]
  },
  {
   "cell_type": "code",
   "execution_count": 1,
   "id": "4de50571-5a11-4f3c-8b3c-142d68d21a97",
   "metadata": {},
   "outputs": [
    {
     "name": "stdout",
     "output_type": "stream",
     "text": [
      "cpu = scpufreq(current=2508.0, min=0.0, max=3201.0)\n",
      "cpu_core = 8\n",
      "memory = svmem(total=16329539584, available=7364640768, percent=54.9, used=8964898816, free=7364640768)\n",
      "cdiskpu = [sdiskpart(device='C:\\\\', mountpoint='C:\\\\', fstype='NTFS', opts='rw,fixed', maxfile=255, maxpath=260)]\n",
      "net = snetio(bytes_sent=4129625, bytes_recv=5762519, packets_sent=5602, packets_recv=10059, errin=0, errout=0, dropin=0, dropout=0)\n"
     ]
    }
   ],
   "source": [
    "import psutil\n",
    "\n",
    "cpu = psutil.cpu_freq()\n",
    "print(\"cpu =\",cpu)\n",
    "\n",
    "cpu_core = psutil.cpu_count(logical=False)\n",
    "print(\"cpu_core =\",cpu_core)\n",
    "\n",
    "memory = psutil.virtual_memory()\n",
    "print(\"memory =\",memory)\n",
    "\n",
    "disk = psutil.disk_partitions()\n",
    "print(\"cdiskpu =\",disk)\n",
    "\n",
    "net = psutil.net_io_counters()\n",
    "print(\"net =\",net)\n"
   ]
  },
  {
   "cell_type": "code",
   "execution_count": 4,
   "id": "6c82b9c8-8229-4fbc-a4dd-251add7dc543",
   "metadata": {},
   "outputs": [
    {
     "name": "stdout",
     "output_type": "stream",
     "text": [
      "cpu 속도: 3.2GHz\n",
      "\n",
      "cpu 코어수: 8 개\n",
      "\n",
      "메모리: 15GB\n",
      "\n",
      "C:\\ NTFS 디스크 용량: 476GB\n",
      "\n",
      "패킷 내보내기: 5.8MB   패킷 받기: 49.7MB\n",
      "\n"
     ]
    }
   ],
   "source": [
    "import psutil\n",
    "\n",
    "cpu = psutil.cpu_freq()\n",
    "cpu_current_ghz = round(cpu.current / 1000, 2)\n",
    "print(f\"cpu 속도: {cpu_current_ghz}GHz\\n\")\n",
    "\n",
    "cpu_core = psutil.cpu_count(logical=False)\n",
    "print(f\"cpu 코어수: {cpu_core} 개\\n\"  )\n",
    "\n",
    "memory = psutil.virtual_memory()\n",
    "memory_total = round(memory.total / 1024**3)\n",
    "print( f'메모리: {memory_total}GB\\n' )\n",
    "\n",
    "disk = psutil.disk_partitions()\n",
    "for p in disk:\n",
    "    print(p.mountpoint, p.fstype, end=' ')\n",
    "    du = psutil.disk_usage(p.mountpoint)\n",
    "    disk_total = round(du.total / 1024**3)\n",
    "    print(f'디스크 용량: {disk_total}GB\\n' )\n",
    "\n",
    "net = psutil.net_io_counters()\n",
    "sent = round(net.bytes_sent/1024**2, 1)\n",
    "recv = round(net.bytes_recv/1024**2, 1)\n",
    "print(f'패킷 내보내기: {sent}MB   패킷 받기: {recv}MB\\n')"
   ]
  },
  {
   "cell_type": "code",
   "execution_count": 5,
   "id": "01791e8c-c35c-4af5-9513-4dbb5a7a1cc8",
   "metadata": {},
   "outputs": [
    {
     "name": "stdout",
     "output_type": "stream",
     "text": [
      "CPU사용량: 14.3%\n",
      "사용가능한 메모리: 5.9GB\n",
      "보내기: 5.8MB   받기: 49.7MB\n",
      "CPU사용량: 17.9%\n",
      "사용가능한 메모리: 5.9GB\n",
      "보내기: 0.0MB   받기: 0.0MB\n",
      "CPU사용량: 12.6%\n",
      "사용가능한 메모리: 5.9GB\n",
      "보내기: 0.0MB   받기: 0.0MB\n",
      "CPU사용량: 9.6%\n",
      "사용가능한 메모리: 5.9GB\n",
      "보내기: 0.0MB   받기: 0.0MB\n",
      "CPU사용량: 15.0%\n",
      "사용가능한 메모리: 5.9GB\n",
      "보내기: 0.0MB   받기: 0.0MB\n"
     ]
    },
    {
     "ename": "KeyboardInterrupt",
     "evalue": "",
     "output_type": "error",
     "traceback": [
      "\u001b[1;31m---------------------------------------------------------------------------\u001b[0m",
      "\u001b[1;31mKeyboardInterrupt\u001b[0m                         Traceback (most recent call last)",
      "Cell \u001b[1;32mIn[5], line 10\u001b[0m\n\u001b[0;32m      7\u001b[0m prev_recv \u001b[38;5;241m=\u001b[39m \u001b[38;5;241m0\u001b[39m\n\u001b[0;32m      9\u001b[0m \u001b[38;5;28;01mwhile\u001b[39;00m \u001b[38;5;28;01mTrue\u001b[39;00m:\n\u001b[1;32m---> 10\u001b[0m     cpu_p \u001b[38;5;241m=\u001b[39m \u001b[43mpsutil\u001b[49m\u001b[38;5;241;43m.\u001b[39;49m\u001b[43mcpu_percent\u001b[49m\u001b[43m(\u001b[49m\u001b[43minterval\u001b[49m\u001b[38;5;241;43m=\u001b[39;49m\u001b[38;5;241;43m1\u001b[39;49m\u001b[43m)\u001b[49m\n\u001b[0;32m     11\u001b[0m     \u001b[38;5;28mprint\u001b[39m(\u001b[38;5;124mf\u001b[39m\u001b[38;5;124m'\u001b[39m\u001b[38;5;124mCPU사용량: \u001b[39m\u001b[38;5;132;01m{\u001b[39;00mcpu_p\u001b[38;5;132;01m}\u001b[39;00m\u001b[38;5;124m%\u001b[39m\u001b[38;5;124m'\u001b[39m)\n\u001b[0;32m     13\u001b[0m     memory \u001b[38;5;241m=\u001b[39m psutil\u001b[38;5;241m.\u001b[39mvirtual_memory()\n",
      "File \u001b[1;32mC:\\devEnv\\anaconda3\\lib\\site-packages\\psutil\\__init__.py:1747\u001b[0m, in \u001b[0;36mcpu_percent\u001b[1;34m(interval, percpu)\u001b[0m\n\u001b[0;32m   1745\u001b[0m \u001b[38;5;28;01mif\u001b[39;00m blocking:\n\u001b[0;32m   1746\u001b[0m     t1 \u001b[38;5;241m=\u001b[39m cpu_times()\n\u001b[1;32m-> 1747\u001b[0m     \u001b[43mtime\u001b[49m\u001b[38;5;241;43m.\u001b[39;49m\u001b[43msleep\u001b[49m\u001b[43m(\u001b[49m\u001b[43minterval\u001b[49m\u001b[43m)\u001b[49m\n\u001b[0;32m   1748\u001b[0m \u001b[38;5;28;01melse\u001b[39;00m:\n\u001b[0;32m   1749\u001b[0m     t1 \u001b[38;5;241m=\u001b[39m _last_cpu_times\n",
      "\u001b[1;31mKeyboardInterrupt\u001b[0m: "
     ]
    }
   ],
   "source": [
    "import psutil\n",
    "\n",
    "curr_sent = 0\n",
    "curr_recv = 0\n",
    "\n",
    "prev_sent = 0\n",
    "prev_recv = 0\n",
    "\n",
    "while True:\n",
    "    cpu_p = psutil.cpu_percent(interval=1)\n",
    "    print(f'CPU사용량: {cpu_p}%')\n",
    "\n",
    "    memory = psutil.virtual_memory()\n",
    "    memory_avail = round(memory.available/1024**3,1)\n",
    "    print( f'사용가능한 메모리: {memory_avail}GB' )\n",
    "\n",
    "    net = psutil.net_io_counters()\n",
    "    curr_sent = net.bytes_sent/1024**2\n",
    "    curr_recv = net.bytes_recv/1024**2\n",
    "    \n",
    "    sent = round(curr_sent-prev_sent,1)\n",
    "    recv = round(curr_recv-prev_recv,1)\n",
    "    \n",
    "    print(f'보내기: {sent}MB   받기: {recv}MB')\n",
    "    \n",
    "    prev_sent = curr_sent \n",
    "    prev_recv = curr_recv\n"
   ]
  },
  {
   "cell_type": "code",
   "execution_count": null,
   "id": "170639d8-19b0-4596-a85f-d50d88e8b853",
   "metadata": {},
   "outputs": [],
   "source": []
  }
 ],
 "metadata": {
  "kernelspec": {
   "display_name": "Python 3 (ipykernel)",
   "language": "python",
   "name": "python3"
  },
  "language_info": {
   "codemirror_mode": {
    "name": "ipython",
    "version": 3
   },
   "file_extension": ".py",
   "mimetype": "text/x-python",
   "name": "python",
   "nbconvert_exporter": "python",
   "pygments_lexer": "ipython3",
   "version": "3.9.19"
  }
 },
 "nbformat": 4,
 "nbformat_minor": 5
}
